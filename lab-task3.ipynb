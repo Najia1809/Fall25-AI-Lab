{
 "cells": [
  {
   "cell_type": "code",
   "execution_count": 7,
   "metadata": {},
   "outputs": [
    {
     "name": "stdout",
     "output_type": "stream",
     "text": [
      "Living Room :\tLiving Room : 20 → Action: turn off heater\n",
      "Drawing Room :\tDrawing Room : 26 → Action: turn on heater\n",
      "Kitchen :\tKitchen : 34 → No change (kept turn on heater )\n",
      "bedroom :\tbedroom : 34 → No change (kept turn on heater )\n",
      "Previous history: \n",
      "\n",
      "Living Room,20,turn off heater\n",
      "Kitchen,34,turn on heater\n",
      "Living Room,20,turn off heater\n",
      "Drawing Room,26,turn on heater\n",
      "\n"
     ]
    }
   ],
   "source": [
    "class modelbasedreflexagent():\n",
    "    def __init__(self,temp):\n",
    "        self.fixed_temp = temp\n",
    "        self.history = \"history.txt\"\n",
    "        self.last_action = None\n",
    "    def sensor(self,temp):\n",
    "        self.current_temp = temp\n",
    "    def perfomance(self):\n",
    "        action = None\n",
    "        if self.fixed_temp<self.current_temp:\n",
    "            action = \"turn on heater\"\n",
    "        else:\n",
    "            action = \"turn off heater\"\n",
    "        return action\n",
    "    def actuator(self):\n",
    "        action = self.perfomance()\n",
    "        if action == self.last_action:\n",
    "            print(room, \":\", self.current_temp, \"→ No change (kept\", action, \")\")\n",
    "        else:\n",
    "            print(room, \":\", self.current_temp, \"→ Action:\", action)\n",
    "            self.last_action = action   \n",
    "            \n",
    "            with open(self.history, \"a\") as f:\n",
    "                f.write(f\"{room},{self.current_temp},{action}\\n\")\n",
    "\n",
    "    def show_history(self):\n",
    "        with open(self.history,\"r\")as f:\n",
    "            print(f.read())\n",
    "\n",
    "rooms = {\n",
    "    \"Living Room\": 20,\n",
    "    \"Drawing Room\": 26,\n",
    "    \"Kitchen\": 34,\n",
    "    \"bedroom\": 34,\n",
    "}\n",
    "\n",
    "agent = modelbasedreflexagent(22)\n",
    "for room, temp in rooms.items():\n",
    "    print(room, end=' :\\t')\n",
    "    agent.sensor(temp)\n",
    "    agent.actuator()\n",
    "    \n",
    "print(\"Previous history: \")\n",
    "agent.show_history()"
   ]
  }
 ],
 "metadata": {
  "kernelspec": {
   "display_name": "base",
   "language": "python",
   "name": "python3"
  },
  "language_info": {
   "codemirror_mode": {
    "name": "ipython",
    "version": 3
   },
   "file_extension": ".py",
   "mimetype": "text/x-python",
   "name": "python",
   "nbconvert_exporter": "python",
   "pygments_lexer": "ipython3",
   "version": "3.12.7"
  }
 },
 "nbformat": 4,
 "nbformat_minor": 2
}
