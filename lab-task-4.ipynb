{
 "cells": [
  {
   "cell_type": "markdown",
   "metadata": {},
   "source": [
    "\n",
    "# Task-4"
   ]
  },
  {
   "cell_type": "markdown",
   "metadata": {},
   "source": [
    "### 1. Code for LUHN Algorithm"
   ]
  },
  {
   "cell_type": "code",
   "execution_count": 13,
   "metadata": {},
   "outputs": [
    {
     "name": "stdout",
     "output_type": "stream",
     "text": [
      "card number:  [5, 8, 9, 3, 8, 0, 4, 1, 1, 5, 4, 5, 7, 2, 8, 9]\n",
      "\n",
      "removed digit:  9\n",
      "after removing card number:  [5, 8, 9, 3, 8, 0, 4, 1, 1, 5, 4, 5, 7, 2, 8]\n",
      "\n",
      "reverse digit: [8, 2, 7, 5, 4, 5, 1, 1, 4, 0, 8, 3, 9, 8, 5]\n",
      "\n",
      "Doubled even index digits: [16, 2, 14, 5, 8, 5, 2, 1, 8, 0, 16, 3, 18, 8, 10]\n",
      "\n",
      "sum: 80\n",
      "\n",
      "card number is valid\n"
     ]
    }
   ],
   "source": [
    "class LUHN:\n",
    "    def __init__(self):\n",
    "        self.digits =[]\n",
    "        self.removed_digit=[]\n",
    "    def add_card_no(self,numbers):\n",
    "        self.digits = [int(d) for d in str(numbers)]\n",
    "        print(\"card number: \",self.digits)\n",
    "    def checking_digit(self):\n",
    "        removed =self.digits.pop()\n",
    "        self.removed_digit.append(removed)\n",
    "        print(\"\\nremoved digit: \",removed)\n",
    "        print(\"after removing card number: \",self.digits)\n",
    "    def reverse(self):\n",
    "        self.digits.reverse()\n",
    "        print(\"\\nreverse digit:\",self.digits)\n",
    "    def double(self):\n",
    "        for i in range(0, len(self.digits), 2):\n",
    "            self.digits[i] *= 2\n",
    "        print(\"\\nDoubled even index digits:\", self.digits)\n",
    "    \n",
    "    def subtract_nine(self):\n",
    "        for i in range(len(self.digits)):\n",
    "            if self.digits[i] > 9:\n",
    "               self.digits[i] -= 9\n",
    "\n",
    "    def additions(self):\n",
    "       total= sum(self.digits)+ self.removed_digit[0]\n",
    "       print(\"\\nsum:\",total)\n",
    "       return total\n",
    "    def validate(self):\n",
    "        self.checking_digit()\n",
    "        self.reverse()\n",
    "        self.double()\n",
    "        self.subtract_nine()\n",
    "        total = self.additions()\n",
    "        if total%10 == 0:\n",
    "            print(\"\\ncard number is valid\")\n",
    "        else:\n",
    "            print(\"card num not valid\")\n",
    "obj = LUHN()\n",
    "obj.add_card_no(5893804115457289)\n",
    "obj.validate()\n",
    "\n"
   ]
  },
  {
   "cell_type": "markdown",
   "metadata": {},
   "source": [
    "### 2. Write a python program to remove punctuations from the given string? "
   ]
  },
  {
   "cell_type": "code",
   "execution_count": 18,
   "metadata": {},
   "outputs": [
    {
     "name": "stdout",
     "output_type": "stream",
     "text": [
      "original sentence: my name is najia?;:@\n",
      "Clean sentence: my name is najia\n"
     ]
    }
   ],
   "source": [
    "special_characters=(\"!\",\"\\\"\",\"#\",\"$\",\"%\",\"&\",\"'\",\"(\",\")\",\"*\",\"+\",\",\",\"-\",\".\",\"/\",\":\",\";\",\"<\",\"=\",\"?>\",\"@\",\"[\",\"\\\\\",\"]\",\"^\",\"_\",\"`\",\"{\",\"|\",\"}\",\"~\",\"?\")\n",
    "sentence = input(\"Enter a sentence:\")\n",
    "clean_sentence = \"\"\n",
    "for ch in sentence:\n",
    "    if ch not in special_characters:   \n",
    "        clean_sentence += ch\n",
    "print(\"original sentence:\",sentence)\n",
    "print(\"Clean sentence:\",clean_sentence)"
   ]
  },
  {
   "cell_type": "markdown",
   "metadata": {},
   "source": [
    "### 3. Write a python program to sort the sentence in alphabetical order? "
   ]
  },
  {
   "cell_type": "code",
   "execution_count": 20,
   "metadata": {},
   "outputs": [
    {
     "name": "stdout",
     "output_type": "stream",
     "text": [
      "sorted sentence:  ['book', 'is', 'this']\n"
     ]
    }
   ],
   "source": [
    "sentence = input(\"enter any sentence: \")\n",
    "words = sentence.split()\n",
    "words.sort()\n",
    "print(\"sorted sentence: \",words)"
   ]
  },
  {
   "cell_type": "code",
   "execution_count": 23,
   "metadata": {},
   "outputs": [
    {
     "name": "stdout",
     "output_type": "stream",
     "text": [
      "Original sentence: this is book\n",
      "Sorted words: ['book', 'is', 'this']\n"
     ]
    }
   ],
   "source": [
    "\n",
    "sentence = input(\"enter any sentence: \")\n",
    "words = sentence.split()\n",
    "\n",
    "\n",
    "n = len(words)\n",
    "for i in range(n):\n",
    "    for j in range(n-i-1):\n",
    "        if words[j] > words[j+1]: \n",
    "            \n",
    "            words[j], words[j+1] = words[j+1], words[j]\n",
    "\n",
    "print(\"Original sentence:\", sentence)\n",
    "print(\"Sorted words:\", words)\n"
   ]
  }
 ],
 "metadata": {
  "kernelspec": {
   "display_name": "base",
   "language": "python",
   "name": "python3"
  },
  "language_info": {
   "codemirror_mode": {
    "name": "ipython",
    "version": 3
   },
   "file_extension": ".py",
   "mimetype": "text/x-python",
   "name": "python",
   "nbconvert_exporter": "python",
   "pygments_lexer": "ipython3",
   "version": "3.12.7"
  }
 },
 "nbformat": 4,
 "nbformat_minor": 2
}
