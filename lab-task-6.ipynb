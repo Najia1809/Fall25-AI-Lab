{
 "cells": [
  {
   "cell_type": "markdown",
   "metadata": {},
   "source": [
    "# Lab-task-6\n",
    "# Name: Najia Khan(123)\n"
   ]
  },
  {
   "cell_type": "markdown",
   "metadata": {},
   "source": [
    "# 1. BFS with Queue"
   ]
  },
  {
   "cell_type": "code",
   "execution_count": 7,
   "metadata": {},
   "outputs": [
    {
     "name": "stdout",
     "output_type": "stream",
     "text": [
      "['A', 'B', 'C', 'D']\n"
     ]
    }
   ],
   "source": [
    "tree = {\n",
    "    \"A\": ['B','C'],\n",
    "    \"B\": ['D','E'],\n",
    "    \"C\": ['F'],\n",
    "    \"D\": [],\n",
    "    \"E\": [],\n",
    "    \"F\": [\"G\"],\n",
    "    \"G\": []\n",
    "}\n",
    "visited = list()\n",
    "start = \"A\"\n",
    "goal = \"D\"\n",
    "\n",
    "def bfs(level, goal):\n",
    "    if not level or goal in visited:\n",
    "        return\n",
    "    \n",
    "    next_level = []\n",
    "    for i in level:            \n",
    "        if i not in visited:\n",
    "            visited.append(i)\n",
    "            if i == goal:\n",
    "                return\n",
    "            for j in tree[i]:\n",
    "                next_level.append(j)\n",
    "    \n",
    "    bfs(next_level, goal)\n",
    "\n",
    "bfs([start], goal)\n",
    "print(visited)\n"
   ]
  },
  {
   "cell_type": "markdown",
   "metadata": {},
   "source": [
    "# 2. BFS with Queue & Node"
   ]
  },
  {
   "cell_type": "code",
   "execution_count": 6,
   "metadata": {},
   "outputs": [
    {
     "name": "stdout",
     "output_type": "stream",
     "text": [
      "['A', 'B', 'C', 'D', 'E', 'F']\n"
     ]
    }
   ],
   "source": [
    "tree = {\n",
    "    \"A\": ['B','C'],\n",
    "    \"B\": ['D','E'],\n",
    "    \"C\": ['F'],\n",
    "    \"D\": [],\n",
    "    \"E\": [],\n",
    "    \"F\": [\"G\"],\n",
    "    \"G\": []\n",
    "}\n",
    "\n",
    "visited = []\n",
    "start = \"A\"\n",
    "goal = \"F\"\n",
    "\n",
    "def bfs(start, goal):\n",
    "    queue = [start]     \n",
    "    visited.append(start)\n",
    "    \n",
    "    while queue:\n",
    "        node = queue.pop(0)    \n",
    "        if node == goal:\n",
    "            break\n",
    "        for neighbor in tree[node]:\n",
    "            if neighbor not in visited:\n",
    "                visited.append(neighbor)\n",
    "                queue.append(neighbor)\n",
    "\n",
    "bfs(start, goal)\n",
    "print(visited)\n"
   ]
  }
 ],
 "metadata": {
  "kernelspec": {
   "display_name": "base",
   "language": "python",
   "name": "python3"
  },
  "language_info": {
   "codemirror_mode": {
    "name": "ipython",
    "version": 3
   },
   "file_extension": ".py",
   "mimetype": "text/x-python",
   "name": "python",
   "nbconvert_exporter": "python",
   "pygments_lexer": "ipython3",
   "version": "3.12.7"
  }
 },
 "nbformat": 4,
 "nbformat_minor": 2
}
