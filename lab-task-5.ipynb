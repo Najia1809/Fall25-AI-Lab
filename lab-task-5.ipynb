{
 "cells": [
  {
   "cell_type": "markdown",
   "metadata": {},
   "source": [
    "# Name: Najia Khan (123)\n",
    "# Lab-task-5"
   ]
  },
  {
   "cell_type": "code",
   "execution_count": 5,
   "metadata": {},
   "outputs": [
    {
     "name": "stdout",
     "output_type": "stream",
     "text": [
      "['A', 'C', 'F']\n"
     ]
    }
   ],
   "source": [
    "class DFS:\n",
    "    def __init__(self,tree):\n",
    "        self.visited =[]\n",
    "        self.tree =tree\n",
    "        \n",
    "    def dfs(self,start,goal):\n",
    "        stack = [start]\n",
    "        while stack:\n",
    "            node = stack.pop()\n",
    "            if node not in self.visited:\n",
    "                self.visited.append(node)\n",
    "                if node == goal:\n",
    "                    break\n",
    "                for i in self.tree[node]:\n",
    "                    stack.append(i)\n",
    "        return self.visited\n",
    "tree = {\n",
    "    'A': ['B', 'C'],\n",
    "    'B': ['D', 'E'],\n",
    "    'C': ['F'],\n",
    "    'D': [],\n",
    "    'E': [],\n",
    "    'F': ['G'],\n",
    "    'G': []\n",
    "}\n",
    "obj1 =DFS(tree)\n",
    "print(obj1.dfs('A','F'))"
   ]
  },
  {
   "cell_type": "code",
   "execution_count": 6,
   "metadata": {},
   "outputs": [],
   "source": [
    "tree = {\n",
    "    'A': ['B', 'C'],\n",
    "    'B': ['D', 'E'],\n",
    "    'C': ['F'],\n",
    "    'D': [],\n",
    "    'E': [],\n",
    "    'F': ['G'],\n",
    "    'G': []\n",
    "}\n"
   ]
  },
  {
   "cell_type": "markdown",
   "metadata": {},
   "source": [
    "# Preorder: Root , left , right"
   ]
  },
  {
   "cell_type": "code",
   "execution_count": 8,
   "metadata": {},
   "outputs": [
    {
     "name": "stdout",
     "output_type": "stream",
     "text": [
      "['A', 'B', 'D', 'E', 'C', 'F', 'G']\n"
     ]
    }
   ],
   "source": [
    "visted = []\n",
    "def preorder(start):\n",
    "    if start not in visted:\n",
    "        visted.append(start)\n",
    "        for i in tree[start]:\n",
    "            preorder(i)\n",
    "    return visted\n",
    "print(preorder('A'))"
   ]
  },
  {
   "cell_type": "markdown",
   "metadata": {},
   "source": [
    "# Postorder (Left , Right , Root)"
   ]
  },
  {
   "cell_type": "code",
   "execution_count": 9,
   "metadata": {},
   "outputs": [
    {
     "name": "stdout",
     "output_type": "stream",
     "text": [
      "['D', 'E', 'B', 'G', 'F', 'C', 'A']\n"
     ]
    }
   ],
   "source": [
    "visited = []\n",
    "\n",
    "def postorder(start):\n",
    "    for i in tree[start]:\n",
    "        postorder(i)                      \n",
    "    visited.append(start)                 \n",
    "    return visited\n",
    "print(postorder(\"A\"))"
   ]
  },
  {
   "cell_type": "markdown",
   "metadata": {},
   "source": [
    "# Inorder (Left , Root ,Right)"
   ]
  },
  {
   "cell_type": "code",
   "execution_count": 11,
   "metadata": {},
   "outputs": [
    {
     "name": "stdout",
     "output_type": "stream",
     "text": [
      "['D', 'B', 'E', 'A', 'G', 'F', 'C']\n"
     ]
    }
   ],
   "source": [
    "visited = []\n",
    "\n",
    "def inorder(start):\n",
    "    children = tree[start]\n",
    "    if len(children)>0:\n",
    "        inorder(children[0])\n",
    "    visited.append(start)\n",
    "    if len(children)>1:\n",
    "        inorder(children[1])\n",
    "\n",
    "inorder('A')\n",
    "print(visited)"
   ]
  }
 ],
 "metadata": {
  "kernelspec": {
   "display_name": "base",
   "language": "python",
   "name": "python3"
  },
  "language_info": {
   "codemirror_mode": {
    "name": "ipython",
    "version": 3
   },
   "file_extension": ".py",
   "mimetype": "text/x-python",
   "name": "python",
   "nbconvert_exporter": "python",
   "pygments_lexer": "ipython3",
   "version": "3.12.7"
  }
 },
 "nbformat": 4,
 "nbformat_minor": 2
}
